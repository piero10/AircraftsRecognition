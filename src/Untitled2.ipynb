{
 "cells": [
  {
   "cell_type": "code",
   "execution_count": 3,
   "metadata": {
    "collapsed": false
   },
   "outputs": [
    {
     "name": "stderr",
     "output_type": "stream",
     "text": [
      "Using Theano backend.\n"
     ]
    }
   ],
   "source": [
    "from resnet50 import ResNet50\n",
    "from keras.preprocessing import image\n",
    "from keras.preprocessing.image import ImageDataGenerator\n",
    "\n",
    "from imagenet_utils import preprocess_input, decode_predictions\n",
    "import numpy as np\n",
    "import glob\n",
    "import seaborn as sb\n",
    "import os\n",
    "os.chdir(\"/home/semen/aircraftRecognition/deep-learning-models-master/\")"
   ]
  },
  {
   "cell_type": "code",
   "execution_count": 4,
   "metadata": {
    "collapsed": false
   },
   "outputs": [
    {
     "name": "stdout",
     "output_type": "stream",
     "text": [
      "K.image_dim_ordering: th\n"
     ]
    },
    {
     "name": "stderr",
     "output_type": "stream",
     "text": [
      "WARNING (theano.tensor.blas): We did not found a dynamic library into the library_dir of the library we use for blas. If you use ATLAS, make sure to compile it with dynamics library.\n"
     ]
    },
    {
     "name": "stdout",
     "output_type": "stream",
     "text": [
      "('Predicted:', [[(u'n04552348', u'warplane', 0.47984731), (u'n04592741', u'wing', 0.25451419), (u'n02690373', u'airliner', 0.19697796), (u'n04266014', u'space_shuttle', 0.048956793), (u'n04008634', u'projectile', 0.0043808459)]])\n"
     ]
    }
   ],
   "source": [
    "\n",
    "model = ResNet50(weights='imagenet')\n",
    "\n",
    "img_path = 'ff09.jpg'#'cat256.jpg'\n",
    "img = image.load_img(img_path, target_size=(224, 224))\n",
    "x = image.img_to_array(img)\n",
    "x = np.expand_dims(x, axis=0)\n",
    "x = preprocess_input(x)\n",
    "preds = model.predict(x)\n",
    "\n",
    "print('Predicted:', decode_predictions(preds))\n",
    "#model.layers.pop()\n",
    "\n",
    "import os\n",
    "preds = model.predict(x)\n",
    "#print('Predicted with popd model:', preds)\n",
    "#print('len: ', len(preds))"
   ]
  },
  {
   "cell_type": "code",
   "execution_count": null,
   "metadata": {
    "collapsed": false
   },
   "outputs": [
    {
     "name": "stdout",
     "output_type": "stream",
     "text": [
      "1\n",
      "Found 2494 images belonging to 2 classes.\n",
      "2\n",
      "Found 17 images belonging to 2 classes.\n",
      "3\n"
     ]
    }
   ],
   "source": [
    "\n",
    "model.compile(loss='binary_crossentropy',\n",
    "              optimizer='rmsprop',\n",
    "              metrics=['accuracy'])\n",
    "print(1)\n",
    "train_datagen = ImageDataGenerator(\n",
    "        #rescale=1./255,\n",
    "        shear_range=0.2,\n",
    "        zoom_range=0.2,\n",
    "        horizontal_flip=True)\n",
    "\n",
    "test_datagen = ImageDataGenerator(rescale=1./255)\n",
    "\n",
    "train_generator = train_datagen.flow_from_directory(\n",
    "        '/home/semen/aircraftRecognition/im2',\n",
    "        target_size=(300, 300),\n",
    "        batch_size=8,\n",
    "        class_mode='binary')\n",
    "print(2)\n",
    "validation_generator = test_datagen.flow_from_directory(\n",
    "        '/home/semen/aircraftRecognition/im_val',\n",
    "        target_size=(300, 300),\n",
    "        batch_size=8,\n",
    "        class_mode='binary')\n",
    "print(3)\n",
    "model.fit_generator(\n",
    "        train_generator,\n",
    "        samples_per_epoch=1,\n",
    "        nb_epoch=1,\n",
    "        validation_data=validation_generator,\n",
    "        nb_val_samples=1)"
   ]
  },
  {
   "cell_type": "code",
   "execution_count": null,
   "metadata": {
    "collapsed": true
   },
   "outputs": [],
   "source": []
  }
 ],
 "metadata": {
  "kernelspec": {
   "display_name": "Python 2",
   "language": "python",
   "name": "python2"
  },
  "language_info": {
   "codemirror_mode": {
    "name": "ipython",
    "version": 2
   },
   "file_extension": ".py",
   "mimetype": "text/x-python",
   "name": "python",
   "nbconvert_exporter": "python",
   "pygments_lexer": "ipython2",
   "version": "2.7.6"
  }
 },
 "nbformat": 4,
 "nbformat_minor": 2
}
