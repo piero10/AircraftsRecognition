{
 "cells": [
  {
   "cell_type": "code",
   "execution_count": 10,
   "metadata": {
    "collapsed": false
   },
   "outputs": [
    {
     "name": "stdout",
     "output_type": "stream",
     "text": [
      "(Subtensor{int64}.0, Elemwise{add,no_inplace}.0, Elemwise{add,no_inplace}.0, Subtensor{int64}.0)\n",
      "K.image_dim_ordering: tf\n",
      "('Predicted:', [[(u'n04552348', u'warplane', 0.47984731), (u'n04592741', u'wing', 0.25451419), (u'n02690373', u'airliner', 0.19697796), (u'n04266014', u'space_shuttle', 0.048956793), (u'n04008634', u'projectile', 0.0043808459)]])\n"
     ]
    }
   ],
   "source": [
    "from resnet50 import ResNet50\n",
    "from keras.preprocessing import image\n",
    "from imagenet_utils import preprocess_input, decode_predictions\n",
    "import numpy as np\n",
    "\n",
    "model = ResNet50(weights='imagenet')\n",
    "\n",
    "img_path = 'ff09.jpg'#'cat256.jpg'\n",
    "img = image.load_img(img_path, target_size=(224, 224))\n",
    "x = image.img_to_array(img)\n",
    "x = np.expand_dims(x, axis=0)\n",
    "x = preprocess_input(x)\n",
    "preds = model.predict(x)\n",
    "\n",
    "print('Predicted:', decode_predictions(preds))\n",
    "model.layers.pop()\n",
    "\n",
    "import os\n",
    "preds = model.predict(x)\n",
    "#print('Predicted with popd model:', preds)\n",
    "#print('len: ', len(preds))"
   ]
  },
  {
   "cell_type": "code",
   "execution_count": null,
   "metadata": {
    "collapsed": false,
    "scrolled": true
   },
   "outputs": [],
   "source": []
  },
  {
   "cell_type": "code",
   "execution_count": 16,
   "metadata": {
    "collapsed": false
   },
   "outputs": [
    {
     "name": "stdout",
     "output_type": "stream",
     "text": [
      "0 iteration 7.55888578396e-08/home/semen/Документы/python/deep-learning-models-master/aircrafts/f16/b06.jpg\n",
      "10 iteration 8.31477436236e-07/home/semen/Документы/python/deep-learning-models-master/aircrafts/f16/ab01.jpg\n",
      "20 iteration 1.58736601463e-06/home/semen/Документы/python/deep-learning-models-master/aircrafts/f16/cb09.jpg\n",
      "30 iteration 2.34325459303e-06/home/semen/Документы/python/deep-learning-models-master/aircrafts/f16/je04.jpg\n",
      "40 iteration 3.09914317143e-06/home/semen/Документы/python/deep-learning-models-master/aircrafts/f16/fs11.jpg\n",
      "50 iteration 3.85503174982e-06/home/semen/Документы/python/deep-learning-models-master/aircrafts/f16/bd02.jpg\n",
      "60 iteration 4.61092032822e-06/home/semen/Документы/python/deep-learning-models-master/aircrafts/f16/ca04.jpg\n",
      "70 iteration 5.36680890662e-06/home/semen/Документы/python/deep-learning-models-master/aircrafts/f16/be01.jpg\n",
      "80 iteration 6.12269748501e-06/home/semen/Документы/python/deep-learning-models-master/aircrafts/f16/fg09.jpg\n",
      "90 iteration 6.87858606341e-06/home/semen/Документы/python/deep-learning-models-master/aircrafts/f16/l06.jpg\n",
      "100 iteration 7.6344746418e-06/home/semen/Документы/python/deep-learning-models-master/aircrafts/f16/da00.jpg\n",
      "110 iteration 8.3903632202e-06/home/semen/Документы/python/deep-learning-models-master/aircrafts/f16/j10.jpg\n",
      "120 iteration 9.1462517986e-06/home/semen/Документы/python/deep-learning-models-master/aircrafts/f16/hd05.jpg\n",
      "130 iteration 9.90214037699e-06/home/semen/Документы/python/deep-learning-models-master/aircrafts/f16/cb07.jpg\n",
      "140 iteration 1.06580289554e-05/home/semen/Документы/python/deep-learning-models-master/aircrafts/f16/dd07.jpg\n",
      "150 iteration 1.14139175338e-05/home/semen/Документы/python/deep-learning-models-master/aircrafts/f16/ac00.jpg\n",
      "160 iteration 1.21698061122e-05/home/semen/Документы/python/deep-learning-models-master/aircrafts/f16/le10.jpg\n",
      "170 iteration 1.29256946906e-05/home/semen/Документы/python/deep-learning-models-master/aircrafts/f16/d02.jpg\n",
      "180 iteration 1.3681583269e-05/home/semen/Документы/python/deep-learning-models-master/aircrafts/f16/cg02.jpg\n",
      "190 iteration 1.44374718474e-05/home/semen/Документы/python/deep-learning-models-master/aircrafts/f16/ge09.jpg\n",
      "200 iteration 1.51933604258e-05/home/semen/Документы/python/deep-learning-models-master/aircrafts/f16/ag02.jpg\n",
      "210 iteration 1.59492490042e-05/home/semen/Документы/python/deep-learning-models-master/aircrafts/f16/gc00.jpg\n",
      "220 iteration 1.67051375826e-05/home/semen/Документы/python/deep-learning-models-master/aircrafts/f16/hs11.jpg\n",
      "230 iteration 1.7461026161e-05/home/semen/Документы/python/deep-learning-models-master/aircrafts/f16/hc03.jpg\n",
      "240 iteration 1.82169147394e-05/home/semen/Документы/python/deep-learning-models-master/aircrafts/f16/ka08.jpg\n",
      "250 iteration 1.89728033178e-05/home/semen/Документы/python/deep-learning-models-master/aircrafts/f16/fd11.jpg\n",
      "260 iteration 1.97286918961e-05/home/semen/Документы/python/deep-learning-models-master/aircrafts/f16/ib02.jpg\n",
      "270 iteration 2.04845804745e-05/home/semen/Документы/python/deep-learning-models-master/aircrafts/f16/ks00.jpg\n",
      "280 iteration 2.12404690529e-05/home/semen/Документы/python/deep-learning-models-master/aircrafts/f16/de01.jpg\n",
      "290 iteration 2.19963576313e-05/home/semen/Документы/python/deep-learning-models-master/aircrafts/f16/ff44.jpg\n",
      "300 iteration 2.27522462097e-05/home/semen/Документы/python/deep-learning-models-master/aircrafts/f16/bs04.jpg\n",
      "310 iteration 2.35081347881e-05/home/semen/Документы/python/deep-learning-models-master/aircrafts/f16/ig00.jpg\n",
      "320 iteration 2.42640233665e-05/home/semen/Документы/python/deep-learning-models-master/aircrafts/f16/ka11.jpg\n",
      "330 iteration 2.50199119449e-05/home/semen/Документы/python/deep-learning-models-master/aircrafts/f16/ha06.jpg\n",
      "340 iteration 2.57758005233e-05/home/semen/Документы/python/deep-learning-models-master/aircrafts/f16/eb02.jpg\n",
      "350 iteration 2.65316891017e-05/home/semen/Документы/python/deep-learning-models-master/aircrafts/f16/jb03.jpg\n",
      "360 iteration 2.72875776801e-05/home/semen/Документы/python/deep-learning-models-master/aircrafts/f16/ac01.jpg\n",
      "370 iteration 2.80434662585e-05/home/semen/Документы/python/deep-learning-models-master/aircrafts/f16/le08.jpg\n",
      "380 iteration 2.87993548369e-05/home/semen/Документы/python/deep-learning-models-master/aircrafts/f16/lb00.jpg\n",
      "390 iteration 2.95552434153e-05/home/semen/Документы/python/deep-learning-models-master/aircrafts/f16/ie06.jpg\n",
      "400 iteration 3.03111319937e-05/home/semen/Документы/python/deep-learning-models-master/aircrafts/f16/j08.jpg\n",
      "410 iteration 3.10670205721e-05/home/semen/Документы/python/deep-learning-models-master/aircrafts/f16/jc06.jpg\n",
      "420 iteration 3.18229091505e-05/home/semen/Документы/python/deep-learning-models-master/aircrafts/f16/ic08.jpg\n",
      "430 iteration 3.25787977289e-05/home/semen/Документы/python/deep-learning-models-master/aircrafts/f16/bg02.jpg\n",
      "440 iteration 3.33346863073e-05/home/semen/Документы/python/deep-learning-models-master/aircrafts/f16/fc07.jpg\n",
      "450 iteration 3.40905748857e-05/home/semen/Документы/python/deep-learning-models-master/aircrafts/f16/ce10.jpg\n",
      "460 iteration 3.48464634641e-05/home/semen/Документы/python/deep-learning-models-master/aircrafts/f16/ic09.jpg\n",
      "470 iteration 3.56023520425e-05/home/semen/Документы/python/deep-learning-models-master/aircrafts/f16/gc04.jpg\n",
      "480 iteration 3.63582406209e-05/home/semen/Документы/python/deep-learning-models-master/aircrafts/f16/g08.jpg\n",
      "490 iteration 3.71141291993e-05/home/semen/Документы/python/deep-learning-models-master/aircrafts/f16/dc00.jpg\n",
      "500 iteration 3.78700177777e-05/home/semen/Документы/python/deep-learning-models-master/aircrafts/f16/cs09.jpg\n",
      "510 iteration 3.86259063561e-05/home/semen/Документы/python/deep-learning-models-master/aircrafts/f16/kc03.jpg\n",
      "520 iteration 3.93817949345e-05/home/semen/Документы/python/deep-learning-models-master/aircrafts/f16/dg02.jpg\n",
      "530 iteration 4.01376835129e-05/home/semen/Документы/python/deep-learning-models-master/aircrafts/f16/cs01.jpg\n",
      "540 iteration 4.08935720912e-05/home/semen/Документы/python/deep-learning-models-master/aircrafts/f16/eb01.jpg\n",
      "550 iteration 4.16494606696e-05/home/semen/Документы/python/deep-learning-models-master/aircrafts/f16/es07.jpg\n",
      "560 iteration 4.2405349248e-05/home/semen/Документы/python/deep-learning-models-master/aircrafts/f16/ff51.jpg\n",
      "570 iteration 4.31612378264e-05/home/semen/Документы/python/deep-learning-models-master/aircrafts/f16/j01.jpg\n",
      "580 iteration 4.39171264048e-05/home/semen/Документы/python/deep-learning-models-master/aircrafts/f16/kd02.jpg\n",
      "590 iteration 4.46730149832e-05/home/semen/Документы/python/deep-learning-models-master/aircrafts/f16/is08.jpg\n",
      "600 iteration 4.54289035616e-05/home/semen/Документы/python/deep-learning-models-master/aircrafts/f16/d10.jpg\n",
      "610 iteration 4.618479214e-05/home/semen/Документы/python/deep-learning-models-master/aircrafts/f16/gs07.jpg\n",
      "620 iteration 4.69406807184e-05/home/semen/Документы/python/deep-learning-models-master/aircrafts/f16/cs08.jpg\n",
      "630 iteration 4.76965692968e-05/home/semen/Документы/python/deep-learning-models-master/aircrafts/f16/bb07.jpg\n",
      "640 iteration 4.84524578752e-05/home/semen/Документы/python/deep-learning-models-master/aircrafts/f16/be02.jpg\n",
      "650 iteration 4.92083464536e-05/home/semen/Документы/python/deep-learning-models-master/aircrafts/f16/cc09.jpg\n",
      "660 iteration 4.9964235032e-05/home/semen/Документы/python/deep-learning-models-master/aircrafts/f16/hb10.jpg\n",
      "670 iteration 5.07201236104e-05/home/semen/Документы/python/deep-learning-models-master/aircrafts/f16/b11.jpg\n",
      "680 iteration 5.14760121888e-05/home/semen/Документы/python/deep-learning-models-master/aircrafts/f16/jc11.jpg\n",
      "690 iteration 5.22319007672e-05/home/semen/Документы/python/deep-learning-models-master/aircrafts/f16/i03.jpg\n",
      "700 iteration 5.29877893456e-05/home/semen/Документы/python/deep-learning-models-master/aircrafts/f16/is07.jpg\n",
      "710 iteration 5.3743677924e-05/home/semen/Документы/python/deep-learning-models-master/aircrafts/f16/db02.jpg\n",
      "720 iteration 5.44995665024e-05/home/semen/Документы/python/deep-learning-models-master/aircrafts/f16/bd01.jpg\n",
      "730 iteration 5.52554550808e-05/home/semen/Документы/python/deep-learning-models-master/aircrafts/f16/gd02.jpg\n",
      "740 iteration 5.60113436592e-05/home/semen/Документы/python/deep-learning-models-master/aircrafts/f16/cg08.jpg\n",
      "750 iteration 5.67672322376e-05/home/semen/Документы/python/deep-learning-models-master/aircrafts/f16/ff58.jpg\n",
      "760 iteration 5.7523120816e-05/home/semen/Документы/python/deep-learning-models-master/aircrafts/f16/cs00.jpg\n",
      "770 iteration 5.82790093944e-05/home/semen/Документы/python/deep-learning-models-master/aircrafts/f16/fd03.jpg\n",
      "780 iteration 5.90348979728e-05/home/semen/Документы/python/deep-learning-models-master/aircrafts/f16/ag00.jpg\n",
      "790 iteration 5.97907865512e-05/home/semen/Документы/python/deep-learning-models-master/aircrafts/f16/lb07.jpg\n",
      "800 iteration 6.05466751296e-05/home/semen/Документы/python/deep-learning-models-master/aircrafts/f16/he00.jpg\n",
      "810 iteration 6.1302563708e-05/home/semen/Документы/python/deep-learning-models-master/aircrafts/f16/ce09.jpg\n",
      "820 iteration 6.20584522864e-05/home/semen/Документы/python/deep-learning-models-master/aircrafts/f16/fg06.jpg\n",
      "830 iteration 6.28143408647e-05/home/semen/Документы/python/deep-learning-models-master/aircrafts/f16/fd00.jpg\n",
      "840 iteration 6.35702294431e-05/home/semen/Документы/python/deep-learning-models-master/aircrafts/f16/ce01.jpg\n",
      "850 iteration 6.43261180215e-05/home/semen/Документы/python/deep-learning-models-master/aircrafts/f16/fc06.jpg\n",
      "860 iteration 6.50820065999e-05/home/semen/Документы/python/deep-learning-models-master/aircrafts/f16/ff09.jpg\n",
      "870 iteration 6.58378951783e-05/home/semen/Документы/python/deep-learning-models-master/aircrafts/f16/b05.jpg\n",
      "880 iteration 6.65937837567e-05/home/semen/Документы/python/deep-learning-models-master/aircrafts/f16/ff33.jpg\n",
      "890 iteration 6.73496723351e-05/home/semen/Документы/python/deep-learning-models-master/aircrafts/f16/kb00.jpg\n",
      "900 iteration 6.81055609135e-05/home/semen/Документы/python/deep-learning-models-master/aircrafts/f16/lb08.jpg\n",
      "910 iteration 6.88614494919e-05/home/semen/Документы/python/deep-learning-models-master/aircrafts/f16/gg08.jpg\n",
      "920 iteration 6.96173380703e-05/home/semen/Документы/python/deep-learning-models-master/aircrafts/f16/cd08.jpg\n",
      "930 iteration 7.03732266487e-05/home/semen/Документы/python/deep-learning-models-master/aircrafts/f16/jg00.jpg\n",
      "940 iteration 7.11291152271e-05/home/semen/Документы/python/deep-learning-models-master/aircrafts/f16/fe07.jpg\n",
      "950 iteration 7.18850038055e-05/home/semen/Документы/python/deep-learning-models-master/aircrafts/f16/ib06.jpg\n",
      "960 iteration 7.26408923839e-05/home/semen/Документы/python/deep-learning-models-master/aircrafts/f16/ff10.jpg\n",
      "970 iteration 7.33967809623e-05/home/semen/Документы/python/deep-learning-models-master/aircrafts/f16/ge05.jpg\n",
      "980 iteration 7.41526695407e-05/home/semen/Документы/python/deep-learning-models-master/aircrafts/f16/ka06.jpg\n",
      "990 iteration 7.49085581191e-05/home/semen/Документы/python/deep-learning-models-master/aircrafts/f16/fg07.jpg\n",
      "1000 iteration 7.56644466975e-05/home/semen/Документы/python/deep-learning-models-master/aircrafts/f16/hd10.jpg\n",
      "1010 iteration 7.64203352759e-05/home/semen/Документы/python/deep-learning-models-master/aircrafts/f16/fs00.jpg\n",
      "1020 iteration 7.71762238543e-05/home/semen/Документы/python/deep-learning-models-master/aircrafts/f16/ad04.jpg\n",
      "1030 iteration 7.79321124327e-05/home/semen/Документы/python/deep-learning-models-master/aircrafts/f16/hb08.jpg\n",
      "1040 iteration 7.86880010111e-05/home/semen/Документы/python/deep-learning-models-master/aircrafts/f16/ie05.jpg\n",
      "1050 iteration 7.94438895895e-05/home/semen/Документы/python/deep-learning-models-master/aircrafts/f16/ff11.jpg\n",
      "1060 iteration 8.01997781679e-05/home/semen/Документы/python/deep-learning-models-master/aircrafts/f16/cg09.jpg\n",
      "1070 iteration 8.09556667463e-05/home/semen/Документы/python/deep-learning-models-master/aircrafts/f16/j05.jpg\n",
      "1080 iteration 8.17115553247e-05/home/semen/Документы/python/deep-learning-models-master/aircrafts/f16/ks09.jpg\n",
      "1090 iteration 8.24674439031e-05/home/semen/Документы/python/deep-learning-models-master/aircrafts/f16/ie03.jpg\n",
      "1100 iteration 8.32233324815e-05/home/semen/Документы/python/deep-learning-models-master/aircrafts/f16/ed03.jpg\n",
      "1110 iteration 8.39792210598e-05/home/semen/Документы/python/deep-learning-models-master/aircrafts/f16/ea05.jpg\n",
      "1120 iteration 8.47351096382e-05/home/semen/Документы/python/deep-learning-models-master/aircrafts/f16/aa02.jpg\n",
      "1130 iteration 8.54909982166e-05/home/semen/Документы/python/deep-learning-models-master/aircrafts/f16/jg08.jpg\n",
      "1140 iteration 8.6246886795e-05/home/semen/Документы/python/deep-learning-models-master/aircrafts/f16/ae11.jpg\n",
      "1150 iteration 8.70027753734e-05/home/semen/Документы/python/deep-learning-models-master/aircrafts/f16/ds05.jpg\n",
      "1160 iteration 8.77586639518e-05/home/semen/Документы/python/deep-learning-models-master/aircrafts/f16/kc02.jpg\n",
      "1170 iteration 8.85145525302e-05/home/semen/Документы/python/deep-learning-models-master/aircrafts/f16/gg07.jpg\n",
      "1180 iteration 8.92704411086e-05/home/semen/Документы/python/deep-learning-models-master/aircrafts/f16/gg04.jpg\n",
      "1190 iteration 9.0026329687e-05/home/semen/Документы/python/deep-learning-models-master/aircrafts/f16/a06.jpg\n"
     ]
    }
   ],
   "source": [
    "import glob\n",
    "average = [0]*1000\n",
    "k = 0\n",
    "files = glob.glob(\"/home/semen/Документы/python/deep-learning-models-master/aircrafts/f16/*.jpg\")\n",
    "for file in files:\n",
    "    img = image.load_img(img_path, target_size=(224, 224))\n",
    "    x = image.img_to_array(img)\n",
    "    x = np.expand_dims(x, axis=0)\n",
    "    x = preprocess_input(x)\n",
    "    preds = model.predict(x)\n",
    "    average = average + preds[0]\n",
    "    if k % 50 == 0:\n",
    "        print(str(k)+ \" iteration \" + str(average[0]) \"     \" + file[-7:])\n",
    "    k = k + 1\n",
    "    \n",
    "average = average/k\n",
    "    "
   ]
  },
  {
   "cell_type": "code",
   "execution_count": 18,
   "metadata": {
    "collapsed": false
   },
   "outputs": [
    {
     "data": {
      "text/plain": [
       "0.99999999400751771"
      ]
     },
     "execution_count": 18,
     "metadata": {},
     "output_type": "execute_result"
    }
   ],
   "source": [
    "sum(average)"
   ]
  },
  {
   "cell_type": "code",
   "execution_count": 23,
   "metadata": {
    "collapsed": false
   },
   "outputs": [],
   "source": [
    "import numpy\n",
    "s = numpy.array(average)\n",
    "numpy.save('f16weights_',s)"
   ]
  },
  {
   "cell_type": "code",
   "execution_count": null,
   "metadata": {
    "collapsed": true
   },
   "outputs": [],
   "source": []
  }
 ],
 "metadata": {
  "kernelspec": {
   "display_name": "Python 2",
   "language": "python",
   "name": "python2"
  },
  "language_info": {
   "codemirror_mode": {
    "name": "ipython",
    "version": 2
   },
   "file_extension": ".py",
   "mimetype": "text/x-python",
   "name": "python",
   "nbconvert_exporter": "python",
   "pygments_lexer": "ipython2",
   "version": "2.7.6"
  }
 },
 "nbformat": 4,
 "nbformat_minor": 2
}
