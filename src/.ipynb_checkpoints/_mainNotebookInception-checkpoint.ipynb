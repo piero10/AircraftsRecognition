{
 "cells": [
  {
   "cell_type": "code",
   "execution_count": 2,
   "metadata": {
    "collapsed": false
   },
   "outputs": [],
   "source": [
    "from inception_v3 import InceptionV3\n",
    "from keras.preprocessing import image\n",
    "from imagenet_utils import preprocess_input, decode_predictions\n",
    "import numpy as np\n",
    "import glob\n",
    "import seaborn as sb"
   ]
  },
  {
   "cell_type": "code",
   "execution_count": 4,
   "metadata": {
    "collapsed": false
   },
   "outputs": [
    {
     "name": "stdout",
     "output_type": "stream",
     "text": [
      "K.image_dim_ordering: th\n",
      "('Predicted:', [[(u'n04552348', u'warplane', 0.47984731), (u'n04592741', u'wing', 0.25451419), (u'n02690373', u'airliner', 0.19697796), (u'n04266014', u'space_shuttle', 0.048956793), (u'n04008634', u'projectile', 0.0043808459)]])\n"
     ]
    }
   ],
   "source": [
    "model = InceptionV3(weights='imagenet')\n",
    "\n",
    "img_path = 'ff09.jpg'#'cat256.jpg'\n",
    "img = image.load_img(img_path, target_size=(299, 299))\n",
    "x = image.img_to_array(img)\n",
    "x = np.expand_dims(x, axis=0)\n",
    "x = preprocess_input(x)\n",
    "preds = model.predict(x)\n",
    "\n",
    "print('Predicted:', decode_predictions(preds))\n",
    "model.layers.pop()\n",
    "\n",
    "import os\n",
    "preds = model.predict(x)\n",
    "#print('Predicted with popd model:', preds)\n",
    "#print('len: ', len(preds))"
   ]
  },
  {
   "cell_type": "code",
   "execution_count": 91,
   "metadata": {
    "collapsed": false,
    "scrolled": true
   },
   "outputs": [],
   "source": [
    "def calcvectorsAndSaveIt(num, maxNum = 10000):\n",
    "    ave = np.zeros((1000))\n",
    "\n",
    "    k = 0\n",
    "    files = glob.glob(\"/home/semen/aircraftRecognition/images/f\"+str(num)+\"model/*.jpg\")\n",
    "    allvectors = np.zeros((min(maxNum, len(files)),1000))\n",
    "    print()\n",
    "    for file in files:\n",
    "        img = image.load_img(file, target_size=(224, 224))\n",
    "        x = image.img_to_array(img)\n",
    "        x = np.expand_dims(x, axis=0)\n",
    "        x = preprocess_input(x)\n",
    "        preds = model.predict(x)\n",
    "        ave = ave + preds[0]\n",
    "        if k % 100 == 0:\n",
    "            print(str(k)+ \" iteration \" + str(ave[0]) + \"     \" + file[-7:])\n",
    "        allvectors[k] = preds[0]\n",
    "        k = k + 1\n",
    "        if k >= maxNum:\n",
    "            break\n",
    "    \n",
    "    ave = ave / k\n",
    "\n",
    "    np.save('f'+str(num)+'weights_',np.array(ave))\n",
    "    np.save('f'+str(num)+'allvectors_',np.array(allvectors))\n",
    "    print(str(num) + ' saved')"
   ]
  },
  {
   "cell_type": "code",
   "execution_count": 111,
   "metadata": {
    "collapsed": false
   },
   "outputs": [
    {
     "name": "stdout",
     "output_type": "stream",
     "text": [
      "()\n",
      "0 iteration 4.83899348183e-05     h67.jpg\n",
      "100 iteration 0.00292170809352     d92.jpg\n",
      "200 iteration 0.0132654116591     c50.jpg\n",
      "300 iteration 0.0159680105885     b79.jpg\n",
      "400 iteration 0.0195078813785     b64.jpg\n",
      "500 iteration 0.0267853165978     h07.jpg\n",
      "600 iteration 0.0286318691833     110.jpg\n",
      "700 iteration 0.0310991724952     107.jpg\n",
      "800 iteration 0.0375255492804     i06.jpg\n",
      "900 iteration 0.0414364924722     b48.jpg\n",
      "15 saved\n",
      "()\n",
      "0 iteration 1.56579972099e-07     b06.jpg\n",
      "100 iteration 0.00153249410817     a00.jpg\n",
      "200 iteration 0.0064654908075     g02.jpg\n",
      "300 iteration 0.0121331555483     s06.jpg\n",
      "400 iteration 0.0146235133114     d03.jpg\n",
      "500 iteration 0.0190490132764     g05.jpg\n",
      "600 iteration 0.0213728169087     d06.jpg\n",
      "700 iteration 0.0235051336142     e03.jpg\n",
      "800 iteration 0.0290357787177     a10.jpg\n",
      "900 iteration 0.0329367034754     e07.jpg\n",
      "16 saved\n"
     ]
    }
   ],
   "source": [
    "mNum = 1000\n",
    "calcvectorsAndSaveIt(15, maxNum = mNum)\n",
    "calcvectorsAndSaveIt(16, maxNum = mNum)"
   ]
  },
  {
   "cell_type": "code",
   "execution_count": 110,
   "metadata": {
    "collapsed": false
   },
   "outputs": [
    {
     "name": "stdout",
     "output_type": "stream",
     "text": [
      "(100, 1000)\n",
      "(100, 2)\n"
     ]
    },
    {
     "data": {
      "text/plain": [
       "(-0.5, 0.7)"
      ]
     },
     "execution_count": 110,
     "metadata": {},
     "output_type": "execute_result"
    },
    {
     "data": {
      "image/png": "[encoded data removed]",
      "text/plain": [
       "<matplotlib.figure.Figure at 0x7f9598ade090>"
      ]
     },
     "metadata": {},
     "output_type": "display_data"
    }
   ],
   "source": [
    "f15data = np.load('f15allvectors_.npy')\n",
    "f16data = np.load('f16allvectors_.npy')\n",
    "print(f15data.shape)\n",
    "\n",
    "from sklearn.decomposition import PCA\n",
    "\n",
    "pca = PCA(n_components = 2)\n",
    "pca.fit(f15data)\n",
    "f15dataT = pca.transform(f15data)\n",
    "print(f15dataT.shape)\n",
    "f16dataT = pca.transform(f16data)\n",
    "#print(f16dataT)\n",
    "%matplotlib inline \n",
    "import matplotlib.pyplot as plt\n",
    "\n",
    "plt.scatter(f15dataT[:,0], f15dataT[:,1], color = ['red'])\n",
    "plt.scatter(f16dataT[:,0], f16dataT[:,1], color = ['blue'])\n",
    "plt.ylim((-0.2,0.3))\n",
    "plt.xlim((-0.5, 0.7))\n",
    "\n"
   ]
  },
  {
   "cell_type": "code",
   "execution_count": 129,
   "metadata": {
    "collapsed": false
   },
   "outputs": [
    {
     "name": "stdout",
     "output_type": "stream",
     "text": [
      "(2000, 1000)\n",
      "(2000, 1)\n"
     ]
    },
    {
     "data": {
      "text/plain": [
       "(-0.5, 0.7)"
      ]
     },
     "execution_count": 129,
     "metadata": {},
     "output_type": "execute_result"
    },
    {
     "data": {
      "image/png": "[encoded data removed]",
      "text/plain": [
       "<matplotlib.figure.Figure at 0x7f9597d7e410>"
      ]
     },
     "metadata": {},
     "output_type": "display_data"
    }
   ],
   "source": [
    "f15data = np.load('f15allvectors_.npy')\n",
    "f16data = np.load('f16allvectors_.npy')\n",
    "\n",
    "from sklearn.feature_selection import SelectKBest\n",
    "from sklearn.feature_selection import chi2\n",
    "\n",
    "l1 = np.zeros((len(f15data), 1))\n",
    "l2 = np.zeros((len(f16data), 1))\n",
    "l2.fill(1)\n",
    "\n",
    "allData = np.concatenate((f15data, f16data))\n",
    "print(allData.shape)\n",
    "allL = np.concatenate((l1,l2))\n",
    "print(allL.shape)\n",
    "\n",
    "pca = PCA(n_components = 2)\n",
    "pca.fit(allData, allL)\n",
    "\n",
    "f16dataT = pca.transform(f16data)\n",
    "f15dataT = pca.transform(f15data)\n",
    "%matplotlib inline \n",
    "import matplotlib.pyplot as plt\n",
    "l = 300\n",
    "plt.scatter(f15dataT[0:l,0], f15dataT[0:l,1], marker = \"+\", color = ['red'], s = 8)\n",
    "plt.scatter(f16dataT[0:l,0], f16dataT[0:l,1], marker = \"o\", color = ['blue'], s = 3)\n",
    "plt.ylim((-0.3,0.3))\n",
    "plt.xlim((-0.5, 0.7))\n",
    "\n"
   ]
  },
  {
   "cell_type": "code",
   "execution_count": null,
   "metadata": {
    "collapsed": true
   },
   "outputs": [],
   "source": []
  }
 ],
 "metadata": {
  "kernelspec": {
   "display_name": "Python 2",
   "language": "python",
   "name": "python2"
  },
  "language_info": {
   "codemirror_mode": {
    "name": "ipython",
    "version": 2
   },
   "file_extension": ".py",
   "mimetype": "text/x-python",
   "name": "python",
   "nbconvert_exporter": "python",
   "pygments_lexer": "ipython2",
   "version": "2.7.6"
  }
 },
 "nbformat": 4,
 "nbformat_minor": 2
}
